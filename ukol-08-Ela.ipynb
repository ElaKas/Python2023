{
 "cells": [
  {
   "cell_type": "code",
   "execution_count": null,
   "metadata": {},
   "outputs": [],
   "source": [
    "import pandas as pd\n",
    "teploty = pd.read_csv(\"temperature.csv\")\n",
    "teploty.head(4)\n",
    "import pytemperature\n",
    "teploty[\"AvgTemperatureCelsia\"] = pytemperature.f2c(teploty[\"AvgTemperature\"])\n",
    "teploty"
   ]
  },
  {
   "cell_type": "code",
   "execution_count": null,
   "metadata": {},
   "outputs": [],
   "source": [
    "#Dotaz na měření, která byla provedena v Praze\n",
    "\n",
    "teploty[teploty[\"City\"] == \"Prague\"]"
   ]
  },
  {
   "cell_type": "code",
   "execution_count": null,
   "metadata": {},
   "outputs": [],
   "source": [
    "#teplota vyšší než 80 stupňů\n",
    "\n",
    "teploty[teploty[\"AvgTemperature\"] > 80]"
   ]
  },
  {
   "cell_type": "code",
   "execution_count": null,
   "metadata": {},
   "outputs": [],
   "source": [
    "#teplota vyšší než 60 stupňů a současně bylo měření provedeno v regionu Europe\n",
    "\n",
    "teploty[(teploty[\"AvgTemperature\"] > 60) & (teploty[\"Region\"] == \"Europe\")]"
   ]
  },
  {
   "cell_type": "code",
   "execution_count": null,
   "metadata": {},
   "outputs": [],
   "source": [
    "# extrémní hodnoty, tj. teplota vyšší než 80 stupňů nebo menší než -20 stupňů\n",
    "teploty[(teploty[\"AvgTemperature\"] > 80) | (teploty[\"AvgTemperature\"] < -20)]"
   ]
  },
  {
   "cell_type": "code",
   "execution_count": null,
   "metadata": {},
   "outputs": [],
   "source": [
    "# bonus 1\n",
    "# teplota (sloupec AvgTemperatureCelsia) vyšší než 30 stupňů Celsia\n",
    "\n",
    "teploty[teploty[\"AvgTemperatureCelsia\"] > 30]\n",
    "\n",
    "#teplota vyšší než 15 stupňů Celsia a současně bylo měření provedeno v regionu (sloupec Region) Evropa (Europe)\n",
    "\n",
    "teploty[(teploty[\"AvgTemperatureCelsia\"] > 15) & (teploty[\"Region\"] == \"Europe\")]"
   ]
  },
  {
   "cell_type": "code",
   "execution_count": null,
   "metadata": {},
   "outputs": [],
   "source": [
    "#extrémní hodnoty\n",
    "teploty[(teploty[\"AvgTemperatureCelsia\"] > 30) | (teploty[\"AvgTemperatureCelsia\"] < -10)]\n",
    "# Jsou některé hodnoty podezřelé? - Ano, jsou."
   ]
  },
  {
   "cell_type": "code",
   "execution_count": null,
   "metadata": {},
   "outputs": [],
   "source": [
    "# bonus 2\n",
    "#Dotaz na řádky z 13. listopadu 2017 (sloupec Day musí mít hodnotu 13)\n",
    "teploty[teploty[\"Day\"] == 13]"
   ]
  },
  {
   "cell_type": "code",
   "execution_count": null,
   "metadata": {},
   "outputs": [],
   "source": [
    "#Dotaz na řádky z 13. listopadu 2017 ze Spojených států amerických (sloupec Day musí mít hodnotu 13 a sloupec Country hodnotu US). Výsledek dotazu si ulož do nové tabulky a použij ji jako vstup pro následující dotaz.\n",
    "americka_trinactka = teploty[(teploty[\"Day\"] == 13) & (teploty[\"Country\"] == \"US\")]\n",
    "americka_trinactka\n",
    "#Pro data z předchozího dotazu napiš dotaz na řádky ve městech (sloupec City) Washington a Philadelphia.\n",
    "americka_trinactka[americka_trinactka[\"City\"].isin([\"Washington\", \"Philadelphia\"])]"
   ]
  }
 ],
 "metadata": {
  "kernelspec": {
   "display_name": "Python 3",
   "language": "python",
   "name": "python3"
  },
  "language_info": {
   "codemirror_mode": {
    "name": "ipython",
    "version": 3
   },
   "file_extension": ".py",
   "mimetype": "text/x-python",
   "name": "python",
   "nbconvert_exporter": "python",
   "pygments_lexer": "ipython3",
   "version": "3.11.4"
  }
 },
 "nbformat": 4,
 "nbformat_minor": 2
}
