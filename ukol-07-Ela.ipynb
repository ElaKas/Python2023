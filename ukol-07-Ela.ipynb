{
 "cells": [
  {
   "cell_type": "code",
   "execution_count": null,
   "metadata": {},
   "outputs": [],
   "source": [
    "import pandas as pd\n",
    "\n",
    "adopce_zvirat = pd.read_csv(\"data_zvirata.csv\", sep=\";\", encoding=\"utf-8\")\n",
    "\n",
    "print(f\"Tabulka ma {adopce_zvirat.shape[0]} radku a {adopce_zvirat.shape[1]} sloupcu.\")\n",
    "print(f\"Sloupce se jmenuji takto: {adopce_zvirat.columns}\")\n",
    "\n",
    "cesky_nazev = adopce_zvirat[\"nazev_cz\"].iloc[35]\n",
    "anglicky_nazev = adopce_zvirat[\"nazev_en\"].iloc[35]\n",
    "print(f\"Zvire s indexem 34 to: cesky - {cesky_nazev}, anglicky - {anglicky_nazev}.\")\n",
    "\n",
    "#Adopce kterých zvířat je nejdražší?\n",
    "\n",
    "print(adopce_zvirat.sort_values(by=\"cena\").iloc[-1])\n",
    "\n",
    "#Které zvíře je alfabeticky poslední v češtině? Které v angličtině?\n",
    "\n",
    "posledni_cz = adopce_zvirat.sort_values(by=\"nazev_cz\").iloc[-1]\n",
    "print(f\"V cestine je alfabeticky posledni {posledni_cz}.\")\n",
    "posledni_en = adopce_zvirat.sort_values(by=\"nazev_en\").iloc[-1]\n",
    "print(posledni_en)"
   ]
  }
 ],
 "metadata": {
  "kernelspec": {
   "display_name": "Python 3",
   "language": "python",
   "name": "python3"
  },
  "language_info": {
   "codemirror_mode": {
    "name": "ipython",
    "version": 3
   },
   "file_extension": ".py",
   "mimetype": "text/x-python",
   "name": "python",
   "nbconvert_exporter": "python",
   "pygments_lexer": "ipython3",
   "version": "3.11.4"
  }
 },
 "nbformat": 4,
 "nbformat_minor": 2
}
