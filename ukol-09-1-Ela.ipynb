{
 "cells": [
  {
   "cell_type": "code",
   "execution_count": 11,
   "metadata": {},
   "outputs": [],
   "source": [
    "import pandas as pd\n",
    "#Zadání 1\n",
    "praha = pd.read_csv(\"zam_praha.csv\")\n",
    "plzen = pd.read_csv(\"zam_plzen.csv\")\n",
    "liberec = pd.read_csv(\"zam_liberec.csv\")"
   ]
  },
  {
   "cell_type": "code",
   "execution_count": 12,
   "metadata": {},
   "outputs": [],
   "source": [
    "praha[\"mesto\"] = \"Praha\"\n",
    "plzen[\"mesto\"] = \"Plzen\"\n",
    "liberec[\"mesto\"] = \"Liberec\"\n",
    "\n",
    "zamestnanci = pd.concat([praha, plzen, liberec])"
   ]
  },
  {
   "cell_type": "code",
   "execution_count": 13,
   "metadata": {},
   "outputs": [],
   "source": [
    "platy = pd.read_csv(\"platy.csv\")\n",
    "zamestnanci_s_platy = pd.merge(zamestnanci, platy, on=\"cislo_zamestnance\")"
   ]
  },
  {
   "cell_type": "code",
   "execution_count": 14,
   "metadata": {},
   "outputs": [
    {
     "name": "stdout",
     "output_type": "stream",
     "text": [
      "Pocet radku v puvodni tabulce byl 56, po spojeni s platy bylo 43 radku.\n"
     ]
    }
   ],
   "source": [
    "print(f\"Pocet radku v puvodni tabulce byl {zamestnanci.shape[0]}, po spojeni s platy bylo {zamestnanci_s_platy.shape[0]} radku.\")"
   ]
  },
  {
   "cell_type": "code",
   "execution_count": 15,
   "metadata": {},
   "outputs": [
    {
     "data": {
      "text/plain": [
       "mesto\n",
       "Liberec    43775.000000\n",
       "Plzen      44792.857143\n",
       "Praha      43295.238095\n",
       "Name: plat, dtype: float64"
      ]
     },
     "execution_count": 15,
     "metadata": {},
     "output_type": "execute_result"
    }
   ],
   "source": [
    "# průměrný plat zaměstnanců v jednotlivých kancelářích.\n",
    "zamestnanci_s_platy.groupby(\"mesto\")[\"plat\"].mean()"
   ]
  },
  {
   "cell_type": "code",
   "execution_count": 16,
   "metadata": {},
   "outputs": [
    {
     "data": {
      "text/html": [
       "<div>\n",
       "<style scoped>\n",
       "    .dataframe tbody tr th:only-of-type {\n",
       "        vertical-align: middle;\n",
       "    }\n",
       "\n",
       "    .dataframe tbody tr th {\n",
       "        vertical-align: top;\n",
       "    }\n",
       "\n",
       "    .dataframe thead th {\n",
       "        text-align: right;\n",
       "    }\n",
       "</style>\n",
       "<table border=\"1\" class=\"dataframe\">\n",
       "  <thead>\n",
       "    <tr style=\"text-align: right;\">\n",
       "      <th></th>\n",
       "      <th>date</th>\n",
       "      <th>hours</th>\n",
       "      <th>project</th>\n",
       "      <th>emloyee_id</th>\n",
       "    </tr>\n",
       "  </thead>\n",
       "  <tbody>\n",
       "    <tr>\n",
       "      <th>0</th>\n",
       "      <td>2021-02-01</td>\n",
       "      <td>2.5</td>\n",
       "      <td>F30</td>\n",
       "      <td>13</td>\n",
       "    </tr>\n",
       "    <tr>\n",
       "      <th>1</th>\n",
       "      <td>2021-02-01</td>\n",
       "      <td>3.4</td>\n",
       "      <td>W05</td>\n",
       "      <td>70</td>\n",
       "    </tr>\n",
       "    <tr>\n",
       "      <th>2</th>\n",
       "      <td>2021-02-01</td>\n",
       "      <td>2.1</td>\n",
       "      <td>JL9</td>\n",
       "      <td>72</td>\n",
       "    </tr>\n",
       "  </tbody>\n",
       "</table>\n",
       "</div>"
      ],
      "text/plain": [
       "         date  hours project  emloyee_id\n",
       "0  2021-02-01    2.5     F30          13\n",
       "1  2021-02-01    3.4     W05          70\n",
       "2  2021-02-01    2.1     JL9          72"
      ]
     },
     "execution_count": 16,
     "metadata": {},
     "output_type": "execute_result"
    }
   ],
   "source": [
    "#Zadání 2\n",
    "vykazy = pd.read_csv(\"https://raw.githubusercontent.com/JankaMarschalkova/python-podzim-pondeli-2023/main/ukoly/vykazy.csv\")\n",
    "vykazy.head(3)"
   ]
  },
  {
   "cell_type": "code",
   "execution_count": 17,
   "metadata": {},
   "outputs": [
    {
     "data": {
      "text/plain": [
       "project\n",
       "F30    21.5\n",
       "JL9     2.1\n",
       "TE1    16.0\n",
       "W05    30.5\n",
       "YLI    31.0\n",
       "Name: hours, dtype: float64"
      ]
     },
     "execution_count": 17,
     "metadata": {},
     "output_type": "execute_result"
    }
   ],
   "source": [
    "# celkový počet vykázaných hodin za jednotlivé projekty\n",
    "vykazy.groupby(\"project\")[\"hours\"].sum()"
   ]
  },
  {
   "cell_type": "code",
   "execution_count": 18,
   "metadata": {},
   "outputs": [
    {
     "name": "stdout",
     "output_type": "stream",
     "text": [
      "Nepracujicich ve firme je 13.\n"
     ]
    }
   ],
   "source": [
    "#Nepovinný bonus 1\n",
    "nepracujici = zamestnanci.shape[0] - platy.shape[0]\n",
    "print(f\"Nepracujicich ve firme je {nepracujici}.\")"
   ]
  },
  {
   "cell_type": "code",
   "execution_count": 19,
   "metadata": {},
   "outputs": [],
   "source": [
    "#Vytvoř samostatnou tabulku, která obsahuje jména zaměstnanců, kteří ve firmě již nepracují. Tabulku ulož do souboru CSV.\n",
    "\n",
    "jiz_nepracujou=pd.merge(zamestnanci, platy, on=\"cislo_zamestnance\", how=\"outer\")\n",
    "jiz_nepracujou= jiz_nepracujou[jiz_nepracujou['plat'].isnull()]\n",
    "\n",
    "byvali_zamestnanci=jiz_nepracujou.drop([\"telefonni_cislo\",\"cislo_zamestnance\",\"mesto\",\"plat\"], axis=\"columns\")\n",
    "byvali_zamestnanci\n",
    "byvali_zamestnanci.to_csv(\"byvali_zamestnanci.csv\", index = False)"
   ]
  }
 ],
 "metadata": {
  "kernelspec": {
   "display_name": "Python 3",
   "language": "python",
   "name": "python3"
  },
  "language_info": {
   "codemirror_mode": {
    "name": "ipython",
    "version": 3
   },
   "file_extension": ".py",
   "mimetype": "text/x-python",
   "name": "python",
   "nbconvert_exporter": "python",
   "pygments_lexer": "ipython3",
   "version": "3.11.4"
  }
 },
 "nbformat": 4,
 "nbformat_minor": 2
}
